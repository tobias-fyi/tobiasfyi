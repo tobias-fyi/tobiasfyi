{
 "cells": [
  {
   "cell_type": "markdown",
   "metadata": {},
   "source": [
    "# Home Page Copy\n",
    "\n",
    "[tobias.fyi](https://tobias.fyi)\n",
    "\n",
    "---"
   ]
  },
  {
   "cell_type": "markdown",
   "metadata": {},
   "source": [
    "## Tobias E. A. Reaper\n",
    "\n",
    "### Welcome to my little slice of internet\n",
    "\n",
    "I'm a data scientist and engineer, software and machine learning engineer, writer, and musician currently living in Denver, Colorado.\n",
    "\n",
    "I consider myself _a jack of many trades, master of some_.\n",
    "\n",
    "That is, I have an exceptionally wide range of interests, many of which I've pursued as more than casual hobbies. As a dedicated and passionate life-long learner, I take pride in my learning and do so as much as possible regardless of where I am or what I'm doing.\n",
    "\n",
    "Thanks to my parents, who provided me with a unique and wonderful upbringing, I can confidently say, \"The world is my classroom!\" with an almost completely straight face.\n",
    "\n",
    "The _what I'm doing_ part usually revolves around building or creating, as that is how I learn best. It is quite fitting that core philosophy of my undergraduate alma mater is [\"learn by doing\"](https://www.calpoly.edu/learn-by-doing). Funny how those things work out.\n",
    "\n",
    "I am an avid creator and consumer of data of all kinds. In particular, I enjoy creating, gathering, organizing, and/or exploring datasets looking for those relationships—or meaningful coincidences—that make life such a rich experience.\n",
    "\n",
    "I don't mean dataset in a strict sense; I mean any collection of data representing ideas or experiences, be it text, imagery, audio, or raw numbers. For data that beyond me as a mere human, I'm fascinated with finding algorithms to augment my abilities.\n",
    "\n",
    "All of this is to say: I believe in the science of data.\n",
    "\n",
    "I love telling stories. In case you're interested in the story told by my life's data, more details of _The Life and Times of Tobias Reaper_ can be found in my [Fyi](https://tobias.fyi/fyi/).\n",
    "\n",
    "Feel free to get in touch with me via the links (icons) below or in the site footer.\n",
    "\n",
    "Hope to hear from you soon!"
   ]
  },
  {
   "cell_type": "markdown",
   "metadata": {},
   "source": []
  },
  {
   "cell_type": "markdown",
   "metadata": {},
   "source": []
  },
  {
   "cell_type": "markdown",
   "metadata": {},
   "source": []
  },
  {
   "cell_type": "markdown",
   "metadata": {},
   "source": []
  },
  {
   "cell_type": "markdown",
   "metadata": {},
   "source": []
  },
  {
   "cell_type": "markdown",
   "metadata": {},
   "source": []
  },
  {
   "cell_type": "markdown",
   "metadata": {},
   "source": []
  },
  {
   "cell_type": "markdown",
   "metadata": {},
   "source": []
  },
  {
   "cell_type": "markdown",
   "metadata": {},
   "source": []
  },
  {
   "cell_type": "markdown",
   "metadata": {},
   "source": []
  }
 ],
 "metadata": {
  "kernelspec": {
   "display_name": "Python 3.7.6 64-bit ('vela': pipenv)",
   "language": "python",
   "name": "python37664bitvelapipenvde09592071074af6a70ce3b1ce38af95"
  },
  "language_info": {
   "codemirror_mode": {
    "name": "ipython",
    "version": 3
   },
   "file_extension": ".py",
   "mimetype": "text/x-python",
   "name": "python",
   "nbconvert_exporter": "python",
   "pygments_lexer": "ipython3",
   "version": "3.7.6"
  }
 },
 "nbformat": 4,
 "nbformat_minor": 4
}

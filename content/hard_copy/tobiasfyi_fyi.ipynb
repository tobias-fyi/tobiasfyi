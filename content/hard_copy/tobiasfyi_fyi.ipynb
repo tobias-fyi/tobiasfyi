{
 "cells": [
  {
   "cell_type": "markdown",
   "metadata": {},
   "source": [
    "# Fyi Page Copy\n",
    "\n",
    "[tobias.fyi](https://tobias.fyi)\n",
    "\n",
    "---"
   ]
  },
  {
   "cell_type": "markdown",
   "metadata": {},
   "source": [
    "## Tobias E. A. Reaper\n",
    "\n",
    "Data scientist, machine learning engineer, entrepreneur, musician, writer."
   ]
  },
  {
   "cell_type": "markdown",
   "metadata": {},
   "source": [
    "### Repertoire\n",
    "\n",
    "* Languages\n",
    "  * Python\n",
    "  * SQL\n",
    "  * HTML/CSS/Sass\n",
    "  * Jinja2\n",
    "  * Markdown\n",
    "  * JavaScript\n",
    "  * Bash\n",
    "  * YAML\n",
    "  * JSON\n",
    "* Data manipulation\n",
    "  * Pandas\n",
    "  * NumPy\n",
    "* Data visualization\n",
    "  * Matplotlib\n",
    "  * Seaborn\n",
    "  * Plotly\n",
    "    * Dash\n",
    "* Machine learning\n",
    "  * Scikit-learn\n",
    "  * XGBoost\n",
    "* Deep learning\n",
    "  * TensorFlow\n",
    "  * PyTorch\n",
    "* Data storage and access\n",
    "  * SQL\n",
    "  * PostgreSQL\n",
    "  * AWS RDS\n",
    "  * JSON\n",
    "  * MongoDB\n",
    "* Apps and APIs\n",
    "  * Django\n",
    "    * Wagtail\n",
    "  * Flask\n",
    "* Platforms and tools\n",
    "  * Linux\n",
    "    * Ubuntu\n",
    "  * Jupyter\n",
    "  * Docker\n",
    "    * Docker-Compose\n",
    "  * Environments\n",
    "    * Anaconda\n",
    "    * Pip and Pipenv\n",
    "    * Docker\n",
    "  * AWS\n",
    "    * Sagemaker\n",
    "    * Elastic Beanstalk\n",
    "    * EC2\n",
    "    * RDS\n",
    "  * Heroku\n",
    "  * Google\n",
    "    * Colaboratory\n",
    "    * GSuite\n",
    "    * GCP\n",
    "    * Analytics\n",
    "* Algorithms and data structures\n",
    "  * Arrays\n",
    "  * Stacks and Queues\n",
    "  * Hash tables\n",
    "    * Blockchain"
   ]
  },
  {
   "cell_type": "markdown",
   "metadata": {},
   "source": [
    "### Have Data, Will Science\n",
    "\n",
    "> A brief intro to how and why I got into data science\n",
    "\n",
    "As I mention on the [home page](https://tobias.fyi/), I'm an avid creator and consumer of many types of data.\n",
    "\n",
    "Of course, in today's day and age that in and of itself is nothing special. Us humans and our devices are continually creating a steady stream of data—our exhaust as we conduct our increasingly digital activities.\n",
    "\n",
    "Thus far, however, I believe much of this is going to waste. Or, worse yet, being mismanaged or used to deceive.\n",
    "\n",
    "We have yet to really scratch the surface of what can be done with the data we can create.\n",
    "\n",
    "Broadly, this is what inspires me and drives me to study data science. I'm fascinated by and passionate about exploring all the potential benefits that technology (much of it dependent on data) can bring to humanity, and beyond.\n",
    "\n",
    "(Just to be clear, I'm using \"data science\" here as an umbrella term that includes most forms of what many would call \"artificial intelligence\", such as machine learning and neural networks, along with data engineering, visualization, and analysis.)\n",
    "\n",
    "Data science (and good data, of course) can be used to optimize processes, describe complex phenomenon, learn about the past, and make inferences into the unknown. I see it as a way of augmenting what our brains are doing all the time: gathering and analyzing data to discover and describe the space around us in order to make decisions in uncertain circumstances.\n",
    "\n",
    "I believe the innovations to come from the field of data science will allow us to learn a great deal more about ourselves and the universe in which we live, making life better for everyone along the way. Indeed, it is difficult to think of a field or industry that would _not_ benefit from certain innovations in data science.\n",
    "\n",
    "I want to take part in that innovation.\n",
    "\n",
    "As with any tool, it can be just as powerful a force for bad as for good, if not more so. The important innovations to come will change us. Whether it hurts us or helps us is mostly up to us (there's always a bit of luck involved; uncertainty).\n",
    "\n",
    "I want to do my part in moving the needle toward the latter."
   ]
  },
  {
   "cell_type": "markdown",
   "metadata": {},
   "source": [
    "### A Bit of Backstory\n",
    "\n",
    "That was all very high-level and grandiose. Now it's time to get a little more specific, first with the tools I've used, the experiences that led me to where I am, and the skills I've picked up along the way.\n",
    "\n",
    "#### A Lifelong Endeavor\n",
    "\n",
    "I was born and raised by the beach in Santa Barbara, CA, also known as Paradise. Amazingly, my parents, both busy and successful doctors, found the time and energy to homeschool my two brothers and I throughout our childhood and into our teen years. They did not do this for any other reason than to give us the education they thought we deserved—one which they did not believe public school could provide.\n",
    "\n",
    "We went on frequent family field trips to destinations domestic and foreign in order to supplement—and help guide—our education.\n",
    "\n",
    "The positive memories of driving our trusty RV up and down and around the West Coast are the foundation upon which much of my early life was built. We would be gone for weeks at a time, visiting friends in Northern California or family in British Columbia, camping with other homeschooler families, skiing in the Sierras (my dad put me on skis as soon as I could stand up on my own, and probably even before that), and/or surfing in Mexico or wherever else we could find waves.\n",
    "\n",
    "Our old RV, Smooky, had a bumper sticker that stated, \"The world is our classroom\". As cliché as it may sound, this is how my family has always lived, instilling in me a deep passion for learning.\n",
    "\n",
    "My brothers and I grew up learning for the sake of learning; learning to sate our curiosities, whatever they may be. Learning was all around me at all times during my early formative years, and as a result, learning continues to be all around me at all times, regardless of if I'm in school or not.\n",
    "\n",
    "For me, learning truly is a life-long endeavor."
   ]
  },
  {
   "cell_type": "markdown",
   "metadata": {},
   "source": [
    "#### Resource Planning\n",
    "\n",
    "I got a BS in Economics from Cal Poly, SLO, where I competed as a student-athlete on the Swimming & Diving team (I was a diver). After I graduated, I worked for a couple of years at IQMS, a company that develops enterprise resource planning (ERP) software for manufacturers. I completed their 10-week training program and started as a tech support guru, moving into a position as an on-site implementation consultant within a year.\n",
    "\n",
    "My job was to ensure each of my client's transition from their legacy to the IQMS system was as smooth as possible. To do so, I had to understand their business from many different angles, learning and documenting their data flows. This position gave me a great deal of very practical experience working with data. The whole purpose of an ERP system is to make processes more efficient using data, and I was responsible for making it do just that.\n",
    "\n",
    "I recently completed a full-time, 9-month intensive training program in data science, data engineering, machine learning, deep learning, and computer science. I worked on several projects throughout those 9 months (which you can also check out in my Workshop):\n",
    "\n",
    "* Trash Panda\n",
    "* Post Here\n",
    "* MediZen\n",
    "* print(fiction)\n",
    "\n",
    "I am currently looking for a position as a data scientist, data engineer, or machine learning engineer."
   ]
  },
  {
   "cell_type": "markdown",
   "metadata": {},
   "source": [
    "#### Public School\n",
    "\n",
    "> (shorten to a paragraph)\n",
    "\n",
    "Although the homeschooling community in Santa Barbara and California was tight back then, I was cognizant that my limited interaction with other people my age would likely limit my social skills. I wanted more practice being social with more of my peers.\n",
    "\n",
    "This is the main argument I used to convince my parents to let me join public school. They were skeptical but ultimately their style of parenting was to allow us to forge pretty much whatever path we wanted for ourselves. They agreed to let join on the condition that they could pull me out if I started to dislike learning.\n",
    "\n",
    "Thus, I signed up at the local junior high school partway through seventh grade (around 11 years old). I'd imagine for some, this transition could be very difficult on many levels. And while it was difficult getting used to sitting at a desk for hours at a time, I was excited about learning in general and therefore applied myself to the coursework with gusto.\n",
    "\n",
    "To me, that last point was the most interesting part of the transition: seeing some of my classmates _not excited about learning._ Before experiencing classmates grumble about homework, I'd never really even considered the possibility that learning could be something to grumble about."
   ]
  },
  {
   "cell_type": "markdown",
   "metadata": {},
   "source": [
    "#### Diving In\n",
    "\n",
    "My freshman year of high school I decided to try out for the swim team. I went through a few days of swim practice before my best friend's neighbor, a senior at the time, recognized me and told me I should try out springboard diving instead (or in addition to swimming, as he had done).\n",
    "\n",
    "My family always had a trampoline while I was growing up, and I'd been casually into gymnastics (I went to the gym mostly just to do flips). I really liked doing flips and I really enjoy being in water. Diving allowed me a lot of both.\n",
    "\n",
    "I went to the CIF finals every year of high school, and was the reigning champ from Lompoc to Ventura every year except my freshman year (my teammate, mentioned above, who introduced me to diving was better than me)."
   ]
  },
  {
   "cell_type": "markdown",
   "metadata": {},
   "source": [
    "#### Economical\n",
    "\n",
    "After taking an introductory economics class my senior year of high school, I decided to make that my area of study in college. While that decision was on something of a whim (I had to declare my major up front), I believe it was a good one because it introduced me to the practice of gathering and utilizing data.\n",
    "\n",
    "Many of my favorite classes during my time as an undergraduate at Cal Poly, SLO were those that fell into the realm of data science. For example, forecasting, econometric analysis, building probability models, and assessing risk.\n",
    "\n",
    "As my degree was in economics, much of what I learned was theoretical. I was fortunate that my first jobs out of college provided me with practical experience working with data."
   ]
  },
  {
   "cell_type": "markdown",
   "metadata": {},
   "source": [
    "#### Robotics Business Development\n",
    "\n",
    "Actually before I graduated, I worked with a team building a robotics startup called Tandemech Engineering. I was one of two on the business development team, which worked with the three engineers who were designing and building wall-climbing robots."
   ]
  },
  {
   "cell_type": "markdown",
   "metadata": {},
   "source": [
    "#### Resource Planning\n",
    "\n",
    "Immediately after graduation, I started out as a technical support guru for a software company called IQMS, which develops enterprise resource planning (ERP) software for manufacturers. In order to get the job, all new potential hires had to go through a 10-week intensive training on the company's software platform and pass a series of examinations. To be able to effectively solve issues for our customers, we not only had to learn the customer-facing side of the software, backwards and forwards, but we also had to work intimately with the Oracle databases on which it ran.\n",
    "\n",
    "I took this job because the other departments in the company hired from the tech support pool, as they are very knowledgeable about the software already. Within a year of joining the company, I was promoted to a position in the professional services department: Application Specialist.\n",
    "\n",
    "This was the company's term for an on-site implementation consultant, which had me traveling to customers all over the country every week. My main responsibility was to manage the on-boarding of new customers, from whatever system they'd been using onto our system.\n",
    "\n",
    "To that end, I worked with my clients to be sure their transition was as smooth as possible. To do so, I had to understand each business from many different angles, documenting how data flowed through their system. I got to wear many different hats: I planned and managed resources and timelines, set up the environments and databases, oversaw the migration of data from legacy systems, trained users in the operation of the software (and hardware, when applicable), built reports, and, once they were ready, took them live.\n",
    "\n",
    "I learned how to manage projects, teams, and expectations. I got very practical and valuable experience working with data through this, as the whole entire point of the ERP system is to use data to make processes more efficient. If I, as the one managing the implementation of a new software system into their workflow, was to succeed, I had to understand how the data flows through their business; how their business depended on the use of their data.\n",
    "\n",
    "Working closely with the ERP system also got me thinking about resource planning as it relates to other aspects of life and business.\n",
    "\n",
    "A common theme throughout my professional life has been resource planning."
   ]
  },
  {
   "cell_type": "markdown",
   "metadata": {},
   "source": [
    "#### Web Development\n",
    "\n",
    "Fast forward a couple of years and I began working as a graphic designer at a print shop. Although it had always appealed to me, I'd never studied software development or written any significant code until, at this job, I was tasked with rebuilding the website.\n",
    "\n",
    "I learned the basics of web development in order to rebuild the site, and something clicked for me—I found that I really enjoyed coding; building software projects. I knew almost immediately that this was going to be my career going forward.\n",
    "\n",
    "For the first year, I learned and built mostly on my own, with the help of a mentor. Though I also learned HTML, CSS, and JavaScript, it was Python that really spoke to me. I enjoyed writing code in Python more than any other language I'd learned, plus I saw how popular it was for more than just web development, but for fields like scientific computing, statistics, and data science as well. With all that in mind, I decided to focus my time on learning it more deeply."
   ]
  },
  {
   "cell_type": "markdown",
   "metadata": {},
   "source": [
    "#### Data Science\n",
    "\n",
    "After a year of learning from my mentor and the vast reserves of knowledge available via the internet, I realized that I wanted to get back to working with data. I've always had a scientific streak, likely due to my early upbringing and enthusiasm for learning, and I saw the power in bringing that into my work with data.\n",
    "\n",
    "I started with a couple of online courses and books on data science and machine learning, and knew that beyond my new career working with code, I was going to have a career working with code _and_ data. After much deliberation and self-directed learning, I decided the best course of action for me to start my career in data science would be to study it a bit more formally.\n",
    "\n",
    "Considering the wide variety of knowledge and skills needed to be an effective data scientist, I felt like a 3-month bootcamp would not be enough. But I also didn't think a master's program would be right for me at the time (though it is very likely I will go back to school at some point to get an advanced degree, now that I know how fascinating the field can be).\n",
    "\n",
    "I decided to study at Lambda School because they offered an intensive program that lasted 9 months, rather than the typical 3 of other bootcamps. That seemed a more realistic timeline for learning what I wanted to learn: data science, machine learning, and computer science. Furthermore, they also provided the priceless experience of working on real teams to build real products.\n",
    "\n",
    "In case I haven't made that completely clear yet, _I love building things_."
   ]
  },
  {
   "cell_type": "markdown",
   "metadata": {},
   "source": []
  },
  {
   "cell_type": "markdown",
   "metadata": {},
   "source": []
  },
  {
   "cell_type": "markdown",
   "metadata": {},
   "source": []
  },
  {
   "cell_type": "markdown",
   "metadata": {},
   "source": []
  },
  {
   "cell_type": "markdown",
   "metadata": {},
   "source": []
  },
  {
   "cell_type": "markdown",
   "metadata": {},
   "source": []
  },
  {
   "cell_type": "markdown",
   "metadata": {},
   "source": []
  },
  {
   "cell_type": "markdown",
   "metadata": {},
   "source": []
  },
  {
   "cell_type": "markdown",
   "metadata": {},
   "source": []
  },
  {
   "cell_type": "markdown",
   "metadata": {},
   "source": []
  }
 ],
 "metadata": {
  "kernelspec": {
   "display_name": "Python 3.7.6 64-bit ('vela': pipenv)",
   "language": "python",
   "name": "python37664bitvelapipenvde09592071074af6a70ce3b1ce38af95"
  },
  "language_info": {
   "codemirror_mode": {
    "name": "ipython",
    "version": 3
   },
   "file_extension": ".py",
   "mimetype": "text/x-python",
   "name": "python",
   "nbconvert_exporter": "python",
   "pygments_lexer": "ipython3",
   "version": "3.7.6"
  }
 },
 "nbformat": 4,
 "nbformat_minor": 4
}

{
 "cells": [
  {
   "cell_type": "markdown",
   "metadata": {},
   "source": [
    "# LinkedIn Copy\n",
    "\n",
    "[Tobias Reaper](https://www.linkedin.com/in/tobias-reaper/)\n",
    "\n",
    "---"
   ]
  },
  {
   "cell_type": "markdown",
   "metadata": {},
   "source": [
    "## Headline"
   ]
  },
  {
   "cell_type": "markdown",
   "metadata": {},
   "source": [
    "## About (Too long)\n",
    "\n",
    "I'm a data scientist and engineer, software and machine learning engineer, writer, and musician currently living in Denver, Colorado. I hold a BS in Economics from Cal Poly, SLO, where I also competed as a Div I springboard diver.\n",
    "\n",
    "After college I worked as an on-site implementation consultant for a company developing enterprise resource planning software for manufacturers. Managing the entire implementation process means I worked intimately and exhaustively with relational databases, writing SQL queries to migrate data, debug issues, and build reports.\n",
    "\n",
    "My favorite programming language (that I've learned thus far) is Python, with which I have 2 years of experience. Aside from simple and clean syntax, I love Python because it is, as Michael Kennedy always says, a full-spectrum language. That is, it is useful for a very wide variety of tasks. I use it as a scripting language to automate tasks and processes, such as organizing information and files. I use it to create datasets by scraping the web or by querying databases. I use tools like Jupyter, Pandas, and NumPy to wrangle those datasets and Scikit-Learn, TensorFlow, or PyTorch to train machine learning models. I use Django and Flask to develop web apps and APIs (my personal site is built with Wagtail, a Django CMS framework).\n",
    "\n",
    "I've worked on a number of teams to develop useful and usable applications, such as a subreddit recommendation system and an object detection API that classifies over 70 types of waste (see my Projects section below). Building things and working with people is how I learn best, and I'm always looking for opportunities to do so.\n",
    "\n",
    "I relish any opportunity to solve a problem, simple or complex, and always hold myself and those around me to a high standard.\n",
    "\n",
    "---\n",
    "\n",
    "As a child I was encouraged to teach myself everything I wanted to learn and to entertain myself without a TV (we didn’t have one). Contrary to what a surprising number of people believe, these two areas of life go hand in hand. Learning was my entertainment—and still is.\n",
    "\n",
    "My unique upbringing instilled in me what I believe is the most important lesson of all: how to be a lifelong learner. For me, learning did not start nor end with my academic education; life is a continuous learning process. I have a deep passion not only for the challenge of learning new skills and studying new disciplines, but also for practicing and refining those I already have.\n",
    "\n",
    "From anchoring the news to analyzing millions of data points; from training and performing as a vocalist to developing a market for wall-climbing robots; from shooting and editing video to writing technical essays on topics such as the economics of real estate or photosynthetic production of plastic; from surfing trips in exotic locations around the world to flying all over the country on a weekly basis implementing enterprise-level software; from designing, printing, and selling t-shirts to saving enough to try out semi-retirement for a couple years—I am very proud of the variety of academic, professional, and life experiences I’ve had.\n",
    "\n",
    "In case you're curious, you can find out more about me by visiting my site: tobias.fyi.\n",
    "\n",
    "Hope to see you there!"
   ]
  },
  {
   "cell_type": "markdown",
   "metadata": {},
   "source": [
    "---\n",
    "\n",
    "## About (Shortened)\n",
    "\n",
    "I'm a data scientist and engineer, software and machine learning engineer, writer, and musician currently living in Denver, Colorado. I hold a BS in Economics from Cal Poly, SLO, where I also competed as a Division I springboard diver.\n",
    "\n",
    "I've worked on a number of teams to develop useful and usable applications, such as a subreddit recommendation system and an object detection API that classifies over 70 types of waste (see my Projects section below). Building things and working with people is how I learn best, and I'm always looking for opportunities to do so.\n",
    "\n",
    "I relish any opportunity to solve a problem, simple or complex, and always hold myself and those around me to a high standard.\n",
    "\n",
    "As a child I was encouraged to teach myself everything I wanted to learn and to entertain myself without a TV (we didn’t have one). Contrary to what a surprising number of people believe, these two areas of life go hand in hand. Learning was my entertainment—and still is.\n",
    "\n",
    "My unique upbringing instilled in me what I believe is the most important lesson of all: how to be a lifelong learner. For me, learning did not start nor end with my academic education; life is a continuous learning process. I have a deep passion not only for the challenge of learning new skills and studying new disciplines, but also for practicing and refining those I already have.\n",
    "\n",
    "From anchoring the news to analyzing millions of data points; from training and performing as a vocalist to developing a market for wall-climbing robots; from shooting and editing video to writing technical essays on topics such as the economics of real estate or photosynthetic production of plastic; from surfing trips in exotic locations around the world to flying all over the country on a weekly basis implementing enterprise-level software; from designing, printing, and selling t-shirts to saving enough to try out semi-retirement for a couple years—I am very proud of the variety of academic, professional, and life experiences I’ve had.\n",
    "\n",
    "In case you're curious, you can find out more about me by visiting my site: tobias.fyi.\n",
    "\n",
    "Hope to see you there!"
   ]
  },
  {
   "cell_type": "markdown",
   "metadata": {},
   "source": []
  },
  {
   "cell_type": "markdown",
   "metadata": {},
   "source": []
  },
  {
   "cell_type": "markdown",
   "metadata": {},
   "source": []
  },
  {
   "cell_type": "markdown",
   "metadata": {},
   "source": []
  },
  {
   "cell_type": "markdown",
   "metadata": {},
   "source": []
  },
  {
   "cell_type": "markdown",
   "metadata": {},
   "source": []
  },
  {
   "cell_type": "markdown",
   "metadata": {},
   "source": []
  }
 ],
 "metadata": {
  "kernelspec": {
   "display_name": "Python 3.7.6 64-bit ('vela': pipenv)",
   "language": "python",
   "name": "python37664bitvelapipenvde09592071074af6a70ce3b1ce38af95"
  },
  "language_info": {
   "codemirror_mode": {
    "name": "ipython",
    "version": 3
   },
   "file_extension": ".py",
   "mimetype": "text/x-python",
   "name": "python",
   "nbconvert_exporter": "python",
   "pygments_lexer": "ipython3",
   "version": "3.7.6"
  }
 },
 "nbformat": 4,
 "nbformat_minor": 4
}
